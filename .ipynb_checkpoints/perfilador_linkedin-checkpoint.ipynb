{
 "cells": [
  {
   "cell_type": "code",
   "execution_count": 23,
   "id": "d3cd820d-2c53-4142-bc97-d9a6efa01645",
   "metadata": {},
   "outputs": [],
   "source": [
    "#importacoes\n",
    "\n",
    "import os\n",
    "import requests\n",
    "from bs4 import BeautifulSoup\n",
    "from IPython.display import Markdown, display\n",
    "from openai import OpenAI"
   ]
  },
  {
   "cell_type": "code",
   "execution_count": 24,
   "id": "4c4e57fb-37d2-4c71-aa92-4072fd2d3e11",
   "metadata": {},
   "outputs": [],
   "source": [
    "#constantes\n",
    "\n",
    "ollama_via_openai = OpenAI(base_url='http://localhost:11434/v1', api_key='ollama')\n",
    "MODEL = \"llama3.2:3b\""
   ]
  },
  {
   "cell_type": "code",
   "execution_count": 25,
   "id": "466ea25a-b3f8-41a8-b821-904f75eeb01d",
   "metadata": {},
   "outputs": [],
   "source": [
    "#coleta de dados do perfil\n",
    "\n",
    "headers = {\n",
    " \"User-Agent\": \"Mozilla/5.0 (Windows NT 10.0; Win64; x64) AppleWebKit/537.36 (KHTML, like Gecko) Chrome/117.0.0.0 Safari/537.36\"\n",
    "}\n",
    "\n",
    "class Website:\n",
    "\n",
    "    def __init__(self, url):\n",
    "        \"\"\"\n",
    "        Criacao do objeto Website a partir da URL fornecida usando BeautifulSoup\n",
    "        \"\"\"\n",
    "        self.url = url\n",
    "        response = requests.get(url, headers=headers)\n",
    "        soup = BeautifulSoup(response.content, 'html.parser')\n",
    "        self.title = soup.title.string if soup.title else \"Não foi encontrado título\"\n",
    "        for irrelevant in soup.body([\"script\", \"style\", \"img\", \"input\"]):\n",
    "            irrelevant.decompose()\n",
    "        self.text = soup.body.get_text(separator=\"\\n\", strip=True)"
   ]
  },
  {
   "cell_type": "code",
   "execution_count": 26,
   "id": "fc297183-658c-4bbf-8005-3886aa77cbcd",
   "metadata": {},
   "outputs": [],
   "source": [
    "# A function that writes a User Prompt that asks for summaries of websites:\n",
    "\n",
    "system_prompt = \"Você é uma assistente que analisa o perfil de profissionais, a partir de página no LinkedIn, \\\n",
    "e fornece o resumo destacando as experiencias mais recentes e habilidade mais relevantes, \\\n",
    "ignorando textos relacionados ao navegador, formatação da página, outros profissionais e a vagas oferecidas. \\\n",
    "Responda em markdown, iniciando com o nome e o título profissional do perfil analisado.\"\n",
    "\n",
    "def user_prompt_for(website):\n",
    "    user_prompt = f\"Você está analisando o perfil: {website.title}\"\n",
    "    user_prompt += \"\\nO conteúdo do perfil está abaixo; \\\n",
    "Por favor, forneça o resumo deste perfil em markdown. \\\n",
    "Se ele tiver certificações, resuma-as também.\\n\\n\"\n",
    "    user_prompt += website.text\n",
    "    return user_prompt\n",
    "\n",
    "def messages_for(website):\n",
    "    return [\n",
    "        {\"role\": \"system\", \"content\": system_prompt},\n",
    "        {\"role\": \"user\", \"content\": user_prompt_for(website)}\n",
    "    ]\n",
    "\n",
    "def resumir(url):\n",
    "    website = Website(url)\n",
    "    response = ollama_via_openai.chat.completions.create(\n",
    "        model = MODEL,\n",
    "        messages = messages_for(website)\n",
    "    )\n",
    "    return response.choices[0].message.content\n",
    "\n",
    "# A function to display this nicely in the Jupyter output, using markdown\n",
    "\n",
    "def mostrar_resumo(url):\n",
    "    resumo = resumir(url)\n",
    "    display(Markdown(resumo))"
   ]
  },
  {
   "cell_type": "code",
   "execution_count": 27,
   "id": "e4a83740-7c64-4008-a222-78aeb55bf44e",
   "metadata": {},
   "outputs": [
    {
     "data": {
      "text/markdown": [
       "This is a LinkedIn profile for Renan C., a professional with various skills and experiences. Here's an overview of his profile:\n",
       "\n",
       "**Name:** Renan C.\n",
       "\n",
       "**Location:** Brazil (specific city not mentioned)\n",
       "\n",
       "**Industry:** Not specified, but has experience in various fields such as information security, data protection, finance, and education.\n",
       "\n",
       "**Summary:**\n",
       "Renan C. is a versatile professional with expertise in multiple areas, including cybersecurity, data protection, financial analysis, and education. With experience in industries such as technology, finance, and healthcare, he brings a unique perspective to problem-solving and collaboration.\n",
       "\n",
       "**Skills:**\n",
       "\n",
       "1. Information Security\n",
       "2. Cybersecurity\n",
       "3. Data Protection\n",
       "4. Networking\n",
       "5. Financial Analysis\n",
       "6. Programming (Python)\n",
       "7. SAP\n",
       "8. SQL\n",
       "9. Power BI\n",
       "10. Oracle DB Cloud\n",
       "\n",
       "**Experience:**\n",
       "\n",
       "* Senior Analyst, Frazillio Solutions (São Paulo, Brazil) - 3 years\n",
       "\t+ Analyzed financial data using Python and SQL\n",
       "\t+ Designed and implemented financial models using Power BI\n",
       "* Information Security Consultant, EC-Council Network Defense (Rio de Janeiro, Brazil) - 2 years\n",
       "\t+ Conducted network security assessments and penetration testing\n",
       "\t+ Provided training on cybersecurity best practices to clients\n",
       "\n",
       "**Education:**\n",
       "\n",
       "* PhD in Chemistry, Ceará University (Brazil)\n",
       "* Master's degree in Medicinal Chemistry from another university (no country mentioned)\n",
       "\n",
       "**Certifications:**\n",
       "\n",
       "1. Certified Information Security Manager (CISM)\n",
       "2. Certified Data Protection Specialist (CDPSE)\n",
       "3. Certified Chief Information Security Officer (C-CISO)\n",
       "\n",
       "**Languages:**\n",
       "\n",
       "1. Portuguese\n",
       "2. Spanish\n",
       "3. English\n",
       "\n",
       "Overall, Renan C. is a well-rounded professional with expertise in multiple areas, including technology, finance, and education. His skills and experience make him a strong candidate for various industries and roles."
      ],
      "text/plain": [
       "<IPython.core.display.Markdown object>"
      ]
     },
     "metadata": {},
     "output_type": "display_data"
    }
   ],
   "source": [
    "mostrar_resumo(\"https://www.linkedin.com/in/renancarvalhosouza\")"
   ]
  },
  {
   "cell_type": "code",
   "execution_count": null,
   "id": "b18f4a7d-5adc-4b39-890e-5d7171a9d758",
   "metadata": {},
   "outputs": [],
   "source": []
  }
 ],
 "metadata": {
  "kernelspec": {
   "display_name": "Python 3 (ipykernel)",
   "language": "python",
   "name": "python3"
  },
  "language_info": {
   "codemirror_mode": {
    "name": "ipython",
    "version": 3
   },
   "file_extension": ".py",
   "mimetype": "text/x-python",
   "name": "python",
   "nbconvert_exporter": "python",
   "pygments_lexer": "ipython3",
   "version": "3.11.11"
  }
 },
 "nbformat": 4,
 "nbformat_minor": 5
}
