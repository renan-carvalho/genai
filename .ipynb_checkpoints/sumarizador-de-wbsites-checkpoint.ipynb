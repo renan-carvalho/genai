{
 "cells": [
  {
   "cell_type": "code",
   "execution_count": 1,
   "id": "d3cd820d-2c53-4142-bc97-d9a6efa01645",
   "metadata": {},
   "outputs": [],
   "source": [
    "#importacoes\n",
    "\n",
    "import os\n",
    "import requests\n",
    "from bs4 import BeautifulSoup\n",
    "from IPython.display import Markdown, display\n",
    "from openai import OpenAI"
   ]
  },
  {
   "cell_type": "code",
   "execution_count": 6,
   "id": "4c4e57fb-37d2-4c71-aa92-4072fd2d3e11",
   "metadata": {},
   "outputs": [],
   "source": [
    "#constantes\n",
    "\n",
    "ollama_via_openai = OpenAI(base_url='http://localhost:11434/v1', api_key='ollama')\n",
    "MODEL = \"gemma3:12b\""
   ]
  },
  {
   "cell_type": "code",
   "execution_count": 3,
   "id": "466ea25a-b3f8-41a8-b821-904f75eeb01d",
   "metadata": {},
   "outputs": [],
   "source": [
    "#coleta de dados do site\n",
    "\n",
    "headers = {\n",
    " \"User-Agent\": \"Mozilla/5.0 (Windows NT 10.0; Win64; x64) AppleWebKit/537.36 (KHTML, like Gecko) Chrome/117.0.0.0 Safari/537.36\"\n",
    "}\n",
    "\n",
    "class Website:\n",
    "\n",
    "    def __init__(self, url):\n",
    "        \"\"\"\n",
    "        Criacao do objeto Website a partir da URL fornecida usando BeautifulSoup\n",
    "        \"\"\"\n",
    "        self.url = url\n",
    "        response = requests.get(url, headers=headers)\n",
    "        soup = BeautifulSoup(response.content, 'html.parser')\n",
    "        self.title = soup.title.string if soup.title else \"Não foi encontrado título\"\n",
    "        for irrelevant in soup.body([\"script\", \"style\", \"img\", \"input\"]):\n",
    "            irrelevant.decompose()\n",
    "        self.text = soup.body.get_text(separator=\"\\n\", strip=True)"
   ]
  },
  {
   "cell_type": "code",
   "execution_count": 4,
   "id": "fc297183-658c-4bbf-8005-3886aa77cbcd",
   "metadata": {},
   "outputs": [],
   "source": [
    "\n",
    "system_prompt = \"Você é uma assistente que analisa o conteúdo de websites e fornece o resumo, \\\n",
    "ignorando textos relacionados ao navegador e formatação da página. Responda em markdown.\"\n",
    "\n",
    "def user_prompt_for(website):\n",
    "    user_prompt = f\"Você está analisando o perfil: {website.title}\"\n",
    "    user_prompt += \"\\nO conteúdo do website está abaixo; \\\n",
    "                   Por favor, forneça o resumo deste site em markdown. \\n\\n\"\n",
    "    user_prompt += website.text\n",
    "    return user_prompt\n",
    "\n",
    "def messages_for(website):\n",
    "    return [\n",
    "        {\"role\": \"system\", \"content\": system_prompt},\n",
    "        {\"role\": \"user\", \"content\": user_prompt_for(website)}\n",
    "    ]\n",
    "\n",
    "def resumir(url):\n",
    "    website = Website(url)\n",
    "    response = ollama_via_openai.chat.completions.create(\n",
    "        model = MODEL,\n",
    "        messages = messages_for(website)\n",
    "    )\n",
    "    return response.choices[0].message.content\n",
    "\n",
    "# Função para mostrar a saída usando markdown\n",
    "\n",
    "def mostrar_resumo(url):\n",
    "    resumo = resumir(url)\n",
    "    display(Markdown(resumo))"
   ]
  },
  {
   "cell_type": "code",
   "execution_count": 7,
   "id": "e4a83740-7c64-4008-a222-78aeb55bf44e",
   "metadata": {},
   "outputs": [
    {
     "data": {
      "text/markdown": [
       "## Hacking The Cloud - Summary\n",
       "\n",
       "Hacking The Cloud is an encyclopedia and resource for offensive security professionals and those defending cloud environments. It documents attacks, techniques, and tactics applicable to various cloud platforms.  The site aims to improve cloud security by making this knowledge publicly available.\n",
       "\n",
       "**Key Features & Content:**\n",
       "\n",
       "*   **Focus:** Cloud security exploitation and defense.\n",
       "*   **Content Type:** Detailed guides, techniques, and documentation of attacks.\n",
       "*   **Platforms Covered:**\n",
       "    *   **AWS (Amazon Web Services)** - Extensive coverage, including EC2, IAM, S3, Elastic Container Registry (ECR), Cognito, Lambda, User Data, etc.\n",
       "    *   **Azure:**  Covers managed identities, blob storage, Active Directory, and more.\n",
       "    *   **GCP (Google Cloud Platform):** Includes default account information, service account permissions, and privilege escalation techniques.\n",
       "    *   **Terraform:**  Attacks on Terraform Enterprise and ANSI Escape.\n",
       "*   **Categories:** Content is broadly categorized as:\n",
       "    *   **General Knowledge:** Foundational information.\n",
       "    *   **Enumeration:** Techniques for gathering information about cloud resources.\n",
       "    *   **Exploitation:** Methods for compromising resources and escalating privileges.\n",
       "    *   **Avoid Detection:**  Techniques to evade security tools and detections.\n",
       "    *   **Post Exploitation:** Actions taken after initial compromise.\n",
       "    *   **Deprecated:** Older techniques that are no longer recommended.\n",
       "    *   **Capture the Flag (CTF):**  Content related to security challenges and competitions.\n",
       "*   **Blog:** Contains summaries and updates (e.g., 2024 Cloud Security Highlights, annual wrap-ups).\n",
       "*   **Community-Driven:**  The site is maintained by volunteers, and contributions are actively encouraged.\n",
       "*   **Disclaimer:** Content is intended for authorized security assessments and defensive purposes.\n",
       "\n",
       "\n",
       "\n",
       "**How to Contribute:**\n",
       "\n",
       "*   Submissions are welcome, regardless of format or initial section placement.\n",
       "*   Credit the original researcher if a technique is based on their work.\n"
      ],
      "text/plain": [
       "<IPython.core.display.Markdown object>"
      ]
     },
     "metadata": {},
     "output_type": "display_data"
    }
   ],
   "source": [
    "mostrar_resumo(\"https://hackingthe.cloud/\")"
   ]
  }
 ],
 "metadata": {
  "kernelspec": {
   "display_name": "Python 3 (ipykernel)",
   "language": "python",
   "name": "python3"
  },
  "language_info": {
   "codemirror_mode": {
    "name": "ipython",
    "version": 3
   },
   "file_extension": ".py",
   "mimetype": "text/x-python",
   "name": "python",
   "nbconvert_exporter": "python",
   "pygments_lexer": "ipython3",
   "version": "3.11.11"
  }
 },
 "nbformat": 4,
 "nbformat_minor": 5
}
